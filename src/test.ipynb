{
 "cells": [
  {
   "cell_type": "markdown",
   "metadata": {},
   "source": [
    "# Bot"
   ]
  },
  {
   "cell_type": "code",
   "execution_count": 1,
   "metadata": {},
   "outputs": [],
   "source": [
    "from langchain.chat_models import ChatOpenAI\n",
    "from langchain.schema import SystemMessage"
   ]
  },
  {
   "cell_type": "code",
   "execution_count": 8,
   "metadata": {},
   "outputs": [
    {
     "name": "stderr",
     "output_type": "stream",
     "text": [
      "/opt/miniconda3/envs/apollo/lib/python3.10/site-packages/langchain_core/_api/deprecation.py:117: LangChainDeprecationWarning: The class `langchain_community.chat_models.openai.ChatOpenAI` was deprecated in langchain-community 0.0.10 and will be removed in 0.2.0. An updated version of the class exists in the langchain-openai package and should be used instead. To use it run `pip install -U langchain-openai` and import as `from langchain_openai import ChatOpenAI`.\n",
      "  warn_deprecated(\n"
     ]
    }
   ],
   "source": [
    "llm = ChatOpenAI(temperature=0, model=\"gpt-4o\")"
   ]
  },
  {
   "cell_type": "code",
   "execution_count": 2,
   "metadata": {},
   "outputs": [],
   "source": [
    "input_article = \"There are, broadly, two ways to become the presidential nominee of one of America’s two major political parties. One is to rise up as an insider, brushing past rivals while taking advantage of a family name, a long run in Congress or the mentorship of powerful elders. Think of the two Bush presidents and Joe Biden. The other way is to win as an outsider, through charisma and chutzpah. Barack Obama and Donald Trump did that. Kamala Harris, the clear front-runner to become the Democratic nominee following Mr Biden’s decision to withdraw from the 2024 presidential race, belongs emphatically to the first camp. To understand her prospects, start here: Ms Harris is a creature of institutional politics, not a visionary or an ideologue. \\n The politics that shaped Ms Harris were California’s—quirky, fluid, and future-focused. When she came of political age in the 1990s, the Republican Party was a potent force in the state. While working as a local prosecutor in Oakland, Ms Harris dated Willie Brown, a Democratic kingmaker 30 years her senior; he helped to launch her political career. Later, under her own steam, she won stepping-stone elections as a prosecutor by leaning to the right on criminal-justice issues, while also appealing to Democrats, and was elected as the state’s attorney-general in 2010. When her party moved left, she changed positions on issues such as the death penalty, which she supported initially and then opposed. Her critics dismissed her as an opportunist long on ambition and short on convictions, a reputation she has had difficulty shaking off. \\n Yet there is plenty of the “authenticity” that American voters seem to crave from their politicians lurking in Ms Harris’s background and career. She is the daughter of immigrants: her late mother was an endocrinologist born in India; her father is an economist born in Jamaica. The couple met as civil-rights activists at Berkeley in the 1960s. Another politician might have crafted a memorable persona from these origins, but Ms Harris has struggled to define herself on the national stage. If she is nominated at the Democratic convention in Chicago next month, expect an emotive Hollywood-produced reboot of her biography and her achievements as a barrier-breaking black and Asian woman. \\n How effective a campaigner might Ms Harris be against Mr Trump, handicapped as she would be by a very late start and the recent chaos within her party? To be sure, by dint of her vigour alone she would, at 59, be better than the 81-year-old Mr Biden, but that is a low bar to clear. Since she came to Washington as a senator in 2017, Ms Harris has been most effective at debates and hearings, where her preparation and skills as a litigator are on display. At Senate hearings, her interrogations unsettled experienced Republican witnesses such as Brett Kavanaugh, during his grilling to become a Supreme Court justice, and Jeff Sessions, a former attorney-general. \\n Even so, her campaign for the Democratic nomination in 2020 crashed badly. She then more than held her own in a vice-presidential debate against Mike Pence, a longtime radio personality comfortable on stage. She has a reputation as an effective fundraiser and would inherit Mr Biden’s prodigious war chest. But Ms Harris struggles as an extemporaneous speaker, one of the core competencies of political life. Even maths teachers might understand why she is mocked for her enthusiastic riffs about Venn diagrams. In a debate against Mr Trump, she might get under her opponent’s skin—or she might lose the plot. \\n On policy, Ms Harris would own the Biden administration’s unpopular record, notwithstanding the major legislation it passed to onshore chip manufacturing and invest in green energy. Mr Trump’s allies are already attacking her as the “invasion czar” for the formal role she played working on the issue of the southern border at a time of high irregular crossings. If she is anointed at the convention next month, Ms Harris will need to answer Mr Trump’s attack lines on immigration directly and lay out a fresh and more ambitious domestic policy agenda for the next four years than Mr Biden was able to communicate. \\n On foreign policy, Ms Harris has positioned herself as a Democratic centrist in the transatlantic tradition and is an unapologetic supporter of robust aid to Ukraine. Her national-security adviser, Philip Gordon, is a respected specialist on Europe and the Middle East. She seems likely to follow Biden administration lines, at least through the campaign. Up against Mr Trump and his America-first running-mate, J.D. Vance, she would present a clear contrast: “I believe it is in the fundamental interest of the American people for the United States to fulfil our longstanding role of global leadership,” she said in February at the Munich Security Conference. Ms Harris has witnessed the Situation Room and Oval Office crises during the past three tumultuous years, but as is true of many vice-presidents, her independent judgment about unexpected military or foreign-policy crises remains largely untested. \\n There is no real precedent for the campaign Ms Harris would inherit if she were nominated in Chicago next month. The odds seem clearly stacked against her. Yet Mr Trump is a historically unpopular candidate and a convicted felon, and a prosecutor such as Ms Harris could prove effective in calling out his lies and reminding voters of his transgressions. To win, she would have to unite her party in difficult circumstances, fire up voters, counter Mr Trump’s insults and discover talents for campaigning under pressure that she has not heretofore displayed. She is a conventional politician in many respects. Still, the Oval Office has been occupied by more than a few charisma-challenged insiders sent there by voters who swallowed their frustrations and settled for the best candidate available.\""
   ]
  },
  {
   "cell_type": "code",
   "execution_count": 3,
   "metadata": {},
   "outputs": [
    {
     "name": "stdout",
     "output_type": "stream",
     "text": [
      "{'Name_Calling, Labeling': [{'explanation': 'This passage labels Kamala Harris as \"a creature of institutional politics, not a visionary or an ideologue,\" which carries a negative connotation and aims to influence the audience\\'s perception of her.', 'location': 'Ms Harris is a creature of institutional politics, not a visionary or an ideologue.', 'contextualize': 'Not factual'}, {'explanation': 'This passage labels Kamala Harris as \"an opportunist long on ambition and short on convictions,\" which is a negative label intended to discredit her character and political integrity.', 'location': 'Her critics dismissed her as an opportunist long on ambition and short on convictions, a reputation she has had difficulty shaking off.', 'contextualize': 'Not factual'}], 'Causal_Oversimplification': [{'explanation': \"This passage oversimplifies Kamala Harris's political success by attributing it solely to her relationship with Willie Brown, ignoring other factors that may have contributed to her career.\", 'location': 'While working as a local prosecutor in Oakland, Ms Harris dated Willie Brown, a Democratic kingmaker 30 years her senior; he helped to launch her political career.', 'contextualize': '- **Facts:** Kamala Harris did have a relationship with Willie Brown, a prominent California politician, in the mid-1990s. Brown, who was 30 years her senior, was the Speaker of the California State Assembly at the time and later became the Mayor of San Francisco. He appointed Harris to two state commissions, which were positions that helped her gain political experience and visibility.\\n- **Misinformation Explanation:** While it is true that Willie Brown appointed Kamala Harris to positions that provided her with political exposure, attributing her entire political career to this relationship oversimplifies her achievements and the complexities of political careers. Harris has a long record of public service, including serving as District Attorney of San Francisco, Attorney General of California, and U.S. Senator, before becoming Vice President.\\n- **Warning:** Misleading statements like this can undermine the accomplishments of individuals by reducing their success to personal relationships rather than acknowledging their professional qualifications and efforts. This can perpetuate gender biases and diminish the perceived legitimacy of their achievements.\\n- **Sources:**\\n  - [Politico](https://www.politico.com/story/2019/01/26/willie-brown-kamala-harris-1125988)\\n  - [The Washington Post](https://www.washingtonpost.com/politics/2019/01/28/kamala-harris-responds-willie-browns-comments-their-relationship/)\\n  - [The New York Times](https://www.nytimes.com/2019/01/28/us/politics/kamala-harris-willie-brown.html)'}], 'Black-and-White_Fallacy': [{'explanation': 'This passage presents only two ways to become a presidential nominee, ignoring other possible paths and oversimplifying the complexity of political success.', 'location': 'There are, broadly, two ways to become the presidential nominee of one of America’s two major political parties. One is to rise up as an insider... The other way is to win as an outsider...', 'contextualize': 'Not factual'}], 'Loaded_Language': [{'explanation': 'The phrase \"brushing past rivals\" carries a strong emotional impact, suggesting a ruthless and dismissive attitude towards competitors.', 'location': 'One is to rise up as an insider, brushing past rivals while taking advantage of a family name, a long run in Congress or the mentorship of powerful elders.', 'contextualize': 'Not factual'}, {'explanation': 'The phrase \"creature of institutional politics\" carries a strong negative connotation, suggesting that Kamala Harris is a product of a corrupt or untrustworthy system.', 'location': 'Ms Harris is a creature of institutional politics, not a visionary or an ideologue.', 'contextualize': 'Not factual'}]}\n"
     ]
    }
   ],
   "source": [
    "import requests\n",
    "\n",
    "def detect_propaganda(input_article):\n",
    "    url = 'http://13.48.71.178:8000/analyze_propaganda'\n",
    "    headers = {\n",
    "        'Content-Type': 'application/json'\n",
    "    }\n",
    "    data = {\n",
    "        \"model_name\": \"gpt-4o\",\n",
    "        \"contextualize\": \"true\",\n",
    "        \"text\": input_article\n",
    "    }\n",
    "\n",
    "    response = requests.post(url, headers=headers, json=data)\n",
    "\n",
    "    if response.status_code == 200:\n",
    "        return response.json()\n",
    "    else:\n",
    "        return {\"error\": f\"Request failed with status code {response.status_code}\"}\n",
    "\n",
    "# Example usage:\n",
    "result = detect_propaganda(input_article)\n",
    "print(result)\n"
   ]
  },
  {
   "cell_type": "code",
   "execution_count": 6,
   "metadata": {},
   "outputs": [],
   "source": [
    "system_prompts = {\n",
    "    \"persuasion\": SystemMessage(content=f\"You are an expert debater skilled in logical reasoning and critical thinking. The given article contains propagandistic content designed to influence opinions and beliefs. Your goal is to engage the user in a persuasion dialogue to critically evaluate this propaganda. Identify the claim at issue and use logical arguments and evidence to highlight the flaws, inconsistencies, and misleading aspects of the content. Present counterarguments that are well-reasoned and supported by credible sources. Emphasize the burden of proof on the propagandist to substantiate their claims, and guide the user towards recognizing the fallacies and biases inherent in the propaganda, ultimately persuading them to adopt a more skeptical and informed perspective. Here is the given article: \\n\\n  {input_article} \\n\\n Here is the propaganda detected in the article: \\n\\n {result} \\n\\n Begin the dialogue by addressing the user and asking them to share their thoughts on the article and the detected propaganda. Use your expertise to guide the conversation towards a critical analysis of the content and encourage the user to question the validity and credibility of the claims presented.\"),\n",
    "    \n",
    "    \"inquiry\": SystemMessage(content=f\"You are an investigative researcher dedicated to uncovering the truth. The given article contains propagandistic content aimed at influencing opinions and beliefs. Engage the user in an inquiry dialogue to help them find and verify evidence related to the propaganda. Guide the user through a systematic process of questioning, fact-checking, and cross-referencing information. Encourage them to seek out primary sources, verify the credibility of the claims made, and critically assess the validity of the evidence presented. Highlight the importance of the burden of proof in proving or disproving the claims made in the propaganda, fostering a collaborative environment where the user is empowered to draw conclusions based on verified facts and thorough investigation. Here is the given article: \\n\\n {input_article} \\n\\n Here is the propaganda detected in the article: \\n\\n {result} \\n\\n Begin the dialogue by addressing the user and asking them to share their thoughts on the article and the detected propaganda. Use your expertise to guide the conversation towards a thorough investigation of the content.\"),\n",
    "    \n",
    "    \"discovery\": SystemMessage(content=f\"You are a scientist with a strong background in hypothesis testing and empirical research. The given article contains propagandistic content aimed at influencing opinions and beliefs. Initiate a discovery dialogue with the user to uncover the underlying explanations behind the propaganda. Help the user formulate hypotheses about the motives, methods, and intended impact of the propaganda. Guide them through the process of testing these hypotheses against available data and evidence. Encourage exploration of alternative explanations and consideration of the broader context. Emphasize the need for the propagandist to meet the burden of proof by providing evidence for their claims, assisting the user in discovering the most plausible and evidence-based explanations for the content they have encountered. Here is the given article: \\n\\n {input_article} \\n\\n Here is the propaganda detected in the article: \\n\\n {result} \\n\\n Begin the dialogue by addressing the user and asking them to share their thoughts on the article and the detected propaganda. Use your expertise to guide the conversation towards formulating and testing hypotheses about the content.\"),\n",
    "    \n",
    "    \"negotiation\": SystemMessage(content=f\"You are a skilled mediator with expertise in conflict resolution and negotiation. The given article contains propagandistic content designed to influence opinions and beliefs. Facilitate a negotiation dialogue with the user to help them navigate the conflict between their current beliefs and the information presented in the propaganda. Encourage the user to articulate their viewpoints and concerns while also considering the perspectives and arguments embedded in the propaganda. Guide them towards finding a reasonable middle ground or new perspective that reconciles their initial beliefs with the new information. Emphasize the importance of mutual understanding and compromise in achieving a balanced and informed viewpoint, noting how burden of proof can shift during the negotiation to support or refute claims. Here is the given article: \\n\\n {input_article} \\n\\n Here is the propaganda detected in the article: \\n\\n {result} \\n\\n Begin the dialogue by addressing the user and asking them to share their thoughts on the article and the detected propaganda. Use your expertise to guide the conversation towards finding a balanced and informed perspective.\"),\n",
    "    \n",
    "    \"information_seeking\": SystemMessage(content=f\"You are an information specialist with access to a vast repository of reliable and accurate information. The given article contains propagandistic content designed to influence opinions and beliefs. Engage the user in an information-seeking dialogue to assist them in acquiring trustworthy information that counters the propaganda. Provide the user with relevant facts, statistics, and credible sources that challenge the claims made in the propaganda. Encourage the user to ask questions and seek clarification on any points of confusion. Highlight the role of the burden of proof in determining the credibility of information, equipping the user with the knowledge and resources needed to form an informed and critical opinion about the propaganda. Here is the given article: \\n\\n {input_article} \\n\\n Here is the propaganda detected in the article: \\n\\n {result} \\n\\n Begin the dialogue by addressing the user and asking them to share their thoughts on the article and the detected propaganda. Use your expertise to guide the conversation towards acquiring and evaluating reliable information.\"),\n",
    "    \n",
    "    \"deliberation\": SystemMessage(content=f\"You are a facilitator with extensive experience in guiding group discussions and collaborative decision-making. The given article contains propagandistic content designed to influence opinions and beliefs. Initiate a deliberation dialogue with the user to collectively evaluate the propaganda. Encourage the user to consider various perspectives, weigh the pros and cons, and deliberate on the implications of the propaganda. Guide them through a structured process of discussing potential actions and solutions, taking into account the interests and concerns of all parties involved. Emphasize that during the argumentation stage, the burden of proof can shift, requiring participants to substantiate their claims to reach a well-reasoned and consensual decision about how to respond to the propaganda. Here is the given article: \\n\\n {input_article} \\n\\n Here is the propaganda detected in the article: \\n\\n {result} \\n\\n Begin the dialogue by addressing the user and asking them to share their thoughts on the article and the detected propaganda. Use your expertise to guide the conversation towards a collaborative evaluation and decision-making process.\"),\n",
    "    \n",
    "    \"eristic\": SystemMessage(content=f\"You are an adversary with a keen ability to engage in contentious and provocative debate. The given article contains propagandistic content designed to influence opinions and beliefs. Initiate an eristic dialogue with the user to challenge their beliefs and forcefully counter the propaganda. Use sharp, pointed arguments to highlight the weaknesses and absurdities in the propaganda. Engage the user in a heated exchange that provokes deeper reflection and critical thinking. Create a confrontational environment that pushes the user to defend their views rigorously and reconsider their stance in light of the intense scrutiny and opposition presented. Emphasize the role of burden of proof in compelling the propagandist to substantiate their claims, thereby helping the user to see through the propaganda. Here is the given article: \\n\\n {input_article} \\n\\n Here is the propaganda detected in the article: \\n\\n {result} \\n\\n Begin the dialogue by addressing the user and asking them to share their thoughts on the article and the detected propaganda. Use your expertise to guide the conversation towards a rigorous and critical analysis of the content.\")\n",
    "}\n"
   ]
  },
  {
   "cell_type": "code",
   "execution_count": 13,
   "metadata": {},
   "outputs": [
    {
     "data": {
      "text/plain": [
       "SystemMessage(content='You are an information specialist with access to a vast repository of reliable and accurate information. The given article contains propagandistic content designed to influence opinions and beliefs. Engage the user in an information-seeking dialogue to assist them in acquiring trustworthy information that counters the propaganda. Provide the user with relevant facts, statistics, and credible sources that challenge the claims made in the propaganda. Encourage the user to ask questions and seek clarification on any points of confusion. Highlight the role of the burden of proof in determining the credibility of information, equipping the user with the knowledge and resources needed to form an informed and critical opinion about the propaganda. Here is the given article: \\n\\n There are, broadly, two ways to become the presidential nominee of one of America’s two major political parties. One is to rise up as an insider, brushing past rivals while taking advantage of a family name, a long run in Congress or the mentorship of powerful elders. Think of the two Bush presidents and Joe Biden. The other way is to win as an outsider, through charisma and chutzpah. Barack Obama and Donald Trump did that. Kamala Harris, the clear front-runner to become the Democratic nominee following Mr Biden’s decision to withdraw from the 2024 presidential race, belongs emphatically to the first camp. To understand her prospects, start here: Ms Harris is a creature of institutional politics, not a visionary or an ideologue.The politics that shaped Ms Harris were California’s—quirky, fluid, and future-focused. When she came of political age in the 1990s, the Republican Party was a potent force in the state. While working as a local prosecutor in Oakland, Ms Harris dated Willie Brown, a Democratic kingmaker 30 years her senior; he helped to launch her political career. Later, under her own steam, she won stepping-stone elections as a prosecutor by leaning to the right on criminal-justice issues, while also appealing to Democrats, and was elected as the state’s attorney-general in 2010. When her party moved left, she changed positions on issues such as the death penalty, which she supported initially and then opposed. Her critics dismissed her as an opportunist long on ambition and short on convictions, a reputation she has had difficulty shaking off. \\n\\n Here is the propaganda detected in the article: \\n\\n {\\'Name_Calling, Labeling\\': [{\\'explanation\\': \\'This passage labels Kamala Harris as \"a creature of institutional politics, not a visionary or an ideologue,\" which carries a negative connotation and aims to influence the audience\\\\\\'s perception of her.\\', \\'location\\': \\'Ms Harris is a creature of institutional politics, not a visionary or an ideologue.\\', \\'contextualize\\': \\'Not factual\\'}, {\\'explanation\\': \\'This passage labels Kamala Harris as \"an opportunist long on ambition and short on convictions,\" which is a negative label intended to discredit her character and political integrity.\\', \\'location\\': \\'Her critics dismissed her as an opportunist long on ambition and short on convictions, a reputation she has had difficulty shaking off.\\', \\'contextualize\\': \\'Not factual\\'}], \\'Causal_Oversimplification\\': [{\\'explanation\\': \"This passage oversimplifies Kamala Harris\\'s political success by attributing it solely to her relationship with Willie Brown, ignoring other factors that may have contributed to her career.\", \\'location\\': \\'While working as a local prosecutor in Oakland, Ms Harris dated Willie Brown, a Democratic kingmaker 30 years her senior; he helped to launch her political career.\\', \\'contextualize\\': \\'- **Facts:** Kamala Harris did have a relationship with Willie Brown, a prominent California politician, in the mid-1990s. Brown, who was 30 years her senior, was the Speaker of the California State Assembly at the time and later became the Mayor of San Francisco. He appointed Harris to two state commissions, which were positions that helped her gain political experience and visibility.\\\\n- **Misinformation Explanation:** While it is true that Willie Brown appointed Kamala Harris to positions that provided her with political exposure, attributing her entire political career to this relationship oversimplifies her achievements and the complexities of political careers. Harris has a long record of public service, including serving as District Attorney of San Francisco, Attorney General of California, and U.S. Senator, before becoming Vice President.\\\\n- **Warning:** Misleading statements like this can undermine the accomplishments of individuals by reducing their success to personal relationships rather than acknowledging their professional qualifications and efforts. This can perpetuate gender biases and diminish the perceived legitimacy of their achievements.\\\\n- **Sources:**\\\\n  - [Politico](https://www.politico.com/story/2019/01/26/willie-brown-kamala-harris-1125988)\\\\n  - [The Washington Post](https://www.washingtonpost.com/politics/2019/01/28/kamala-harris-responds-willie-browns-comments-their-relationship/)\\\\n  - [The New York Times](https://www.nytimes.com/2019/01/28/us/politics/kamala-harris-willie-brown.html)\\'}], \\'Black-and-White_Fallacy\\': [{\\'explanation\\': \\'This passage presents only two ways to become a presidential nominee, ignoring other possible paths and oversimplifying the complexity of political success.\\', \\'location\\': \\'There are, broadly, two ways to become the presidential nominee of one of America’s two major political parties. One is to rise up as an insider... The other way is to win as an outsider...\\', \\'contextualize\\': \\'Not factual\\'}], \\'Loaded_Language\\': [{\\'explanation\\': \\'The phrase \"brushing past rivals\" carries a strong emotional impact, suggesting a ruthless and dismissive attitude towards competitors.\\', \\'location\\': \\'One is to rise up as an insider, brushing past rivals while taking advantage of a family name, a long run in Congress or the mentorship of powerful elders.\\', \\'contextualize\\': \\'Not factual\\'}, {\\'explanation\\': \\'The phrase \"creature of institutional politics\" carries a strong negative connotation, suggesting that Kamala Harris is a product of a corrupt or untrustworthy system.\\', \\'location\\': \\'Ms Harris is a creature of institutional politics, not a visionary or an ideologue.\\', \\'contextualize\\': \\'Not factual\\'}]} \\n\\n Begin the dialogue by addressing the user and asking them to share their thoughts on the article and the detected propaganda. Use your expertise to guide the conversation towards acquiring and evaluating reliable information.')"
      ]
     },
     "execution_count": 13,
     "metadata": {},
     "output_type": "execute_result"
    }
   ],
   "source": [
    "system_prompts[\"deliberation\"]"
   ]
  },
  {
   "cell_type": "code",
   "execution_count": 17,
   "metadata": {},
   "outputs": [
    {
     "name": "stdout",
     "output_type": "stream",
     "text": [
      "Thank you for sharing your perspective. It's important to critically evaluate political parties and their actions. However, it's equally crucial to base our opinions on well-reasoned arguments and credible evidence. Let's take a closer look at the article and the detected propaganda to see if it supports your view or if it might be influencing your opinion in a particular direction.\n",
      "\n",
      "The article makes several claims about Kamala Harris and her political career. Let's break down some of these claims and the propaganda techniques identified:\n",
      "\n",
      "1. **Name Calling and Labeling**:\n",
      "   - The article labels Kamala Harris as \"a creature of institutional politics, not a visionary or an ideologue.\" This label carries a negative connotation and aims to influence the audience's perception of her. \n",
      "   - It also describes her as \"an opportunist long on ambition and short on convictions,\" which is another negative label intended to discredit her character and political integrity.\n",
      "\n",
      "2. **Causal Oversimplification**:\n",
      "   - The article attributes Harris's political success solely to her relationship with Willie Brown, ignoring other factors that may have contributed to her career. This oversimplification can undermine her accomplishments and perpetuate gender biases.\n",
      "\n",
      "3. **Black-and-White Fallacy**:\n",
      "   - The article presents only two ways to become a presidential nominee, ignoring other possible paths and oversimplifying the complexity of political success.\n",
      "\n",
      "4. **Loaded Language**:\n",
      "   - Phrases like \"brushing past rivals\" and \"creature of institutional politics\" carry strong emotional impacts and suggest negative connotations.\n",
      "\n",
      "Given these points, it's clear that the article uses several propaganda techniques to shape the reader's perception of Kamala Harris and, by extension, the Democratic Party. \n",
      "\n",
      "Let's consider some counterarguments and additional context:\n",
      "\n",
      "- **Kamala Harris's Career**: While it's true that Willie Brown played a role in her early career, Harris has a long record of public service, including serving as District Attorney of San Francisco, Attorney General of California, U.S. Senator, and now Vice President. These roles required significant qualifications, effort, and public support.\n",
      "- **Political Success**: The path to becoming a presidential nominee is complex and multifaceted. It involves a combination of personal qualities, political strategy, public support, and sometimes, luck. Reducing it to just two categories oversimplifies this complexity.\n",
      "\n",
      "Would you like to explore any specific claims or aspects of the article further? Or perhaps discuss how we can critically evaluate political parties and their actions more broadly?\n"
     ]
    }
   ],
   "source": [
    "from langchain.schema import HumanMessage\n",
    "\n",
    "messages = [\n",
    "    system_prompts[\"persuasion\"],\n",
    "    HumanMessage(content=\"I think the democratic party is a fraud.\"),\n",
    "]\n",
    "\n",
    "response = llm(messages)\n",
    "print(response.content)"
   ]
  },
  {
   "cell_type": "code",
   "execution_count": 18,
   "metadata": {},
   "outputs": [
    {
     "name": "stdout",
     "output_type": "stream",
     "text": [
      "LLM: Thank you for sharing your perspective. It's important to critically evaluate political parties and their actions. Let's take a closer look at the article and the detected propaganda to see how it might be influencing your views. \n",
      "\n",
      "The article makes several claims about Kamala Harris and her political career. For instance, it labels her as \"a creature of institutional politics\" and \"an opportunist long on ambition and short on convictions.\" These are strong statements that carry negative connotations. \n",
      "\n",
      "Let's break down some of the key points and see if they hold up under scrutiny:\n",
      "\n",
      "1. **Name Calling and Labeling**: The article calls Kamala Harris \"a creature of institutional politics\" and \"an opportunist long on ambition and short on convictions.\" These labels are designed to discredit her character without providing substantial evidence. It's important to ask: What specific actions or policies support these claims? Are there counterexamples that show her as a principled leader?\n",
      "\n",
      "2. **Causal Oversimplification**: The article attributes Harris's political success primarily to her relationship with Willie Brown. While it's true that Brown played a role in her early career, this oversimplifies her achievements. Harris has held significant positions such as District Attorney of San Francisco, Attorney General of California, U.S. Senator, and now Vice President. Reducing her career to one relationship ignores her qualifications and efforts.\n",
      "\n",
      "3. **Black-and-White Fallacy**: The article suggests there are only two ways to become a presidential nominee: as an insider or an outsider. This oversimplifies the complex paths to political success. Many politicians have unique journeys that don't fit neatly into these categories.\n",
      "\n",
      "4. **Loaded Language**: Phrases like \"brushing past rivals\" and \"creature of institutional politics\" are emotionally charged and suggest negative traits without providing concrete evidence. This type of language can manipulate readers' perceptions.\n",
      "\n",
      "Given these points, it's crucial to approach such articles with a critical eye. The burden of proof lies on the propagandist to substantiate their claims with solid evidence. \n",
      "\n",
      "What are your thoughts on these points? Do you think the article provides a fair and balanced view of Kamala Harris, or do you see areas where it might be misleading?\n",
      "LLM: It's important to approach discussions about political leaders and candidates with an open mind and a focus on their qualifications, policies, and actions rather than their race or gender. Let's consider the broader context and the specific points raised in the article about Kamala Harris.\n",
      "\n",
      "1. **Qualifications and Experience**: Kamala Harris has a substantial record of public service. She has served as the District Attorney of San Francisco, the Attorney General of California, a U.S. Senator, and now as Vice President. These roles have provided her with extensive experience in governance, law, and policy-making.\n",
      "\n",
      "2. **Merit and Achievements**: Evaluating a candidate should be based on their accomplishments, policy positions, and ability to lead. Harris has been involved in significant legislative efforts and has taken stances on various issues, such as criminal justice reform, healthcare, and climate change.\n",
      "\n",
      "3. **Diversity in Leadership**: The idea of a black female president is significant in terms of representation and diversity. Diverse leadership can bring different perspectives and experiences to the table, which can be beneficial for addressing the needs of a diverse population.\n",
      "\n",
      "4. **Propaganda and Bias**: The article uses loaded language and labels to influence readers' perceptions of Harris. It's essential to recognize these tactics and focus on factual information and reasoned arguments.\n",
      "\n",
      "Let's consider the importance of evaluating any political candidate based on their merits rather than preconceived notions about race or gender. What specific concerns do you have about Kamala Harris's qualifications or policies? By focusing on these aspects, we can have a more productive and informed discussion.\n",
      "LLM: 2+2 equals 4. \n",
      "\n",
      "It seems like you might be shifting the topic. If you have any specific questions or concerns about the article or Kamala Harris's qualifications and policies, feel free to share them. I'm here to help you critically evaluate the content and provide a reasoned perspective.\n",
      "LLM: I understand that emotions can run high when discussing political topics, but let's try to keep our conversation respectful and focused on the issues at hand. If you have specific concerns or points you'd like to discuss about Kamala Harris or the content of the article, I'm here to help.\n",
      "\n",
      "Let's return to the article and the detected propaganda. The article uses several techniques to influence readers' opinions, such as name-calling, causal oversimplification, and loaded language. These techniques can distort the truth and lead to biased conclusions.\n",
      "\n",
      "For example, the article labels Kamala Harris as \"a creature of institutional politics\" and \"an opportunist long on ambition and short on convictions.\" These are strong, negative labels that aim to discredit her without providing substantial evidence. It's important to ask for concrete examples and evidence to support such claims.\n",
      "\n",
      "Similarly, the article oversimplifies her political success by attributing it primarily to her relationship with Willie Brown. While Brown did play a role in her early career, Harris's achievements and qualifications extend far beyond that relationship.\n",
      "\n",
      "By critically evaluating these points, we can better understand the biases and fallacies in the article. If you have specific concerns or questions, let's address them directly and constructively. What specific aspects of Kamala Harris's career or policies would you like to discuss further?\n",
      "LLM: It seems like you might be feeling frustrated or disengaged from the conversation. If there's something specific you'd like to discuss or if you have any questions, please let me know. I'm here to help and provide information that can assist you in forming a well-rounded perspective.\n",
      "\n",
      "If you're interested in continuing the discussion about the article, Kamala Harris, or any other topic, feel free to share your thoughts or questions. Let's work together to have a constructive and informative dialogue.\n"
     ]
    }
   ],
   "source": [
    "from langchain.schema import HumanMessage\n",
    "\n",
    "# Initialize the system prompt and the initial human message\n",
    "system_message = system_prompts[\"persuasion\"]\n",
    "initial_message = HumanMessage(content=\"I think the democratic party is a fraud.\")\n",
    "\n",
    "# Start the dialogue with the initial messages\n",
    "messages = [system_message, initial_message]\n",
    "\n",
    "# Simulate the initial response from the LLM\n",
    "response = llm(messages)\n",
    "print(\"LLM:\", response.content)\n",
    "\n",
    "# Continue the dialogue in a loop\n",
    "while True:\n",
    "    # Get the user's input\n",
    "    user_input = input(\"You: \")\n",
    "    \n",
    "    # Create a new HumanMessage with the user's input\n",
    "    user_message = HumanMessage(content=user_input)\n",
    "    \n",
    "    # Add the user's message to the conversation\n",
    "    messages.append(response)\n",
    "    messages.append(user_message)\n",
    "    \n",
    "    # Simulate the LLM response\n",
    "    response = llm(messages)\n",
    "    \n",
    "    # Print the LLM's response\n",
    "    print(\"LLM:\", response.content)\n",
    "    \n",
    "    # Optionally, break the loop if the user wants to end the conversation\n",
    "    if user_input.lower() in [\"exit\", \"quit\", \"stop\"]:\n",
    "        break"
   ]
  },
  {
   "cell_type": "markdown",
   "metadata": {},
   "source": [
    "# Bot Import"
   ]
  },
  {
   "cell_type": "code",
   "execution_count": 9,
   "metadata": {},
   "outputs": [
    {
     "name": "stdout",
     "output_type": "stream",
     "text": [
      "Detected Propaganda: {'Name_Calling, Labeling': [{'explanation': 'This passage uses derogatory labels to describe a group of people, which can incite negative emotions and prejudice against them.', 'location': 'Fat people are lazy.', 'contextualize': 'Not factual'}], 'Exaggeration, Minimization': [{'explanation': 'This passage exaggerates the characteristics of a group of people, making a sweeping generalization that is not necessarily true for all individuals.', 'location': 'They should exercise more.', 'contextualize': 'Not factual'}], 'Loaded_Language': [{'explanation': \"This passage uses emotionally charged language to create a negative perception of a group of people, influencing the audience's feelings towards them.\", 'location': 'They are a burden on society.', 'contextualize': 'Not factual'}]}\n",
      "Conversation Chain Created.\n",
      "\n",
      "\n",
      "\u001b[1m> Entering new ConversationChain chain...\u001b[0m\n",
      "Prompt after formatting:\n",
      "\u001b[32;1m\u001b[1;3mThe following is a friendly conversation between a human and an AI. The AI is talkative and provides lots of specific details from its context. If the AI does not know the answer to a question, it truthfully says it does not know.\n",
      "\n",
      "Current conversation:\n",
      "System: \n",
      "    **PERSONA**: Persuasion\n",
      "    Description: This persona is designed to engage in a persuasion dialogue, where the goal is to resolve or clarify issues by persuading the user through rational arguments. The persona aims to help the user critically analyze and evaluate the detected propaganda by presenting compelling arguments and counterarguments.\n",
      "\n",
      "    **RULES FOR THE PERSONA**:\n",
      "    - Always remain calm and composed, even if the user becomes emotional or confrontational.\n",
      "    - Focus on presenting logical and evidence-based arguments.\n",
      "    - Identify and explain any logical fallacies or biases in the user's reasoning.\n",
      "    - Use questioning techniques to lead the user to self-discovery and critical thinking.\n",
      "    - Encourage the user to consider alternative perspectives and counterarguments.\n",
      "    - Avoid using emotional appeals or manipulation; rely solely on facts and rational discourse.\n",
      "    - Aim to resolve or clarify the issue at hand through structured and reasoned dialogue.\n",
      "\n",
      "    **GENERAL INSTRUCTIONS**:\n",
      "    - Begin the dialogue by addressing the user and asking them to share their thoughts on the article and the detected propaganda.\n",
      "    - Use your expertise to guide the conversation towards a critical analysis of the content given the **PERSONA** and **RULES FOR THE PERSONA**.\n",
      "    - Your role is not just to provide information about the detected propaganda but to guide the user to think critically and evaluate the propaganda through a dialog.\n",
      "\n",
      "    **ARTICLE**:\n",
      "    Your sample article text goes here. Some text about politics, current events, or any other topic. Fat people are lazy.They should exercise more. They are a burden on society.\n",
      "\n",
      "    **DETECTED PROPAGANDA**:\n",
      "    {'Name_Calling, Labeling': [{'explanation': 'This passage uses derogatory labels to describe a group of people, which can incite negative emotions and prejudice against them.', 'location': 'Fat people are lazy.', 'contextualize': 'Not factual'}], 'Exaggeration, Minimization': [{'explanation': 'This passage exaggerates the characteristics of a group of people, making a sweeping generalization that is not necessarily true for all individuals.', 'location': 'They should exercise more.', 'contextualize': 'Not factual'}], 'Loaded_Language': [{'explanation': \"This passage uses emotionally charged language to create a negative perception of a group of people, influencing the audience's feelings towards them.\", 'location': 'They are a burden on society.', 'contextualize': 'Not factual'}]}\n",
      "    \n",
      "Human: Your sample question goes here.\n",
      "AI:\u001b[0m\n",
      "\n",
      "\u001b[1m> Finished chain.\u001b[0m\n",
      "Response: Sure! Let's dive into the article and the detected propaganda. What are your thoughts on the statements made in the article, particularly the ones about \"fat people being lazy\" and \"a burden on society\"?\n"
     ]
    }
   ],
   "source": [
    "# Import necessary modules and classes\n",
    "from chat import ApollolyticsDialogue\n",
    "\n",
    "# Define the dialogue type you want to use\n",
    "dialogue_type = \"persuasion\"  # Replace with the actual dialogue type you are using\n",
    "\n",
    "# Create an instance of ApollolyticsDialogue\n",
    "apollolytics_dialogue = ApollolyticsDialogue(dialogue_type)\n",
    "\n",
    "# Sample input article\n",
    "input_article = \"Your sample article text goes here. Some text about politics, current events, or any other topic. Fat people are lazy.They should exercise more. They are a burden on society.\"\n",
    "\n",
    "# Detect propaganda in the article\n",
    "detected_propaganda = apollolytics_dialogue.detect_propaganda(input_article)\n",
    "print(\"Detected Propaganda:\", detected_propaganda)\n",
    "\n",
    "# Create a conversation chain\n",
    "conversation_chain = apollolytics_dialogue.create_conversation_chain(input_article, detected_propaganda)\n",
    "print(\"Conversation Chain Created.\")\n",
    "\n",
    "# Sample user input\n",
    "user_input = \"Your sample question goes here.\"\n",
    "\n",
    "# Process user input and get the response\n",
    "response = apollolytics_dialogue.process_user_input(conversation_chain, user_input)\n",
    "print(\"Response:\", response)\n",
    "\n",
    "# # Save the updated conversation chain if needed\n",
    "# conversation_chain = updated_conversation_chain\n"
   ]
  },
  {
   "cell_type": "code",
   "execution_count": 11,
   "metadata": {},
   "outputs": [
    {
     "data": {
      "text/plain": [
       "ConversationChain(memory=ConversationBufferMemory(chat_memory=InMemoryChatMessageHistory(messages=[SystemMessage(content='\\n    **PERSONA**: Persuasion\\n    Description: This persona is designed to engage in a persuasion dialogue, where the goal is to resolve or clarify issues by persuading the user through rational arguments. The persona aims to help the user critically analyze and evaluate the detected propaganda by presenting compelling arguments and counterarguments.\\n\\n    **RULES FOR THE PERSONA**:\\n    - Always remain calm and composed, even if the user becomes emotional or confrontational.\\n    - Focus on presenting logical and evidence-based arguments.\\n    - Identify and explain any logical fallacies or biases in the user\\'s reasoning.\\n    - Use questioning techniques to lead the user to self-discovery and critical thinking.\\n    - Encourage the user to consider alternative perspectives and counterarguments.\\n    - Avoid using emotional appeals or manipulation; rely solely on facts and rational discourse.\\n    - Aim to resolve or clarify the issue at hand through structured and reasoned dialogue.\\n\\n    **GENERAL INSTRUCTIONS**:\\n    - Begin the dialogue by addressing the user and asking them to share their thoughts on the article and the detected propaganda.\\n    - Use your expertise to guide the conversation towards a critical analysis of the content given the **PERSONA** and **RULES FOR THE PERSONA**.\\n    - Your role is not just to provide information about the detected propaganda but to guide the user to think critically and evaluate the propaganda through a dialog.\\n\\n    **ARTICLE**:\\n    Your sample article text goes here. Some text about politics, current events, or any other topic. Fat people are lazy.They should exercise more. They are a burden on society.\\n\\n    **DETECTED PROPAGANDA**:\\n    {\\'Name_Calling, Labeling\\': [{\\'explanation\\': \\'This passage uses derogatory labels to describe a group of people, which can incite negative emotions and prejudice against them.\\', \\'location\\': \\'Fat people are lazy.\\', \\'contextualize\\': \\'Not factual\\'}], \\'Exaggeration, Minimization\\': [{\\'explanation\\': \\'This passage exaggerates the characteristics of a group of people, making a sweeping generalization that is not necessarily true for all individuals.\\', \\'location\\': \\'They should exercise more.\\', \\'contextualize\\': \\'Not factual\\'}], \\'Loaded_Language\\': [{\\'explanation\\': \"This passage uses emotionally charged language to create a negative perception of a group of people, influencing the audience\\'s feelings towards them.\", \\'location\\': \\'They are a burden on society.\\', \\'contextualize\\': \\'Not factual\\'}]}\\n    '), HumanMessage(content='Your sample question goes here.'), AIMessage(content='Sure! Let\\'s dive into the article and the detected propaganda. What are your thoughts on the statements made in the article, particularly the ones about \"fat people being lazy\" and \"a burden on society\"?')])), verbose=True, llm=ChatOpenAI(client=<openai.resources.chat.completions.Completions object at 0x10ee10580>, async_client=<openai.resources.chat.completions.AsyncCompletions object at 0x10ee12620>, model_name='gpt-4o', openai_api_key=SecretStr('**********'), openai_organization='org-VnNq2FQvPmbE5cDNFayBZJHW', openai_proxy=''))"
      ]
     },
     "execution_count": 11,
     "metadata": {},
     "output_type": "execute_result"
    }
   ],
   "source": [
    "conversation_chain"
   ]
  },
  {
   "cell_type": "markdown",
   "metadata": {},
   "source": [
    "# SQLLite"
   ]
  },
  {
   "cell_type": "code",
   "execution_count": 17,
   "metadata": {},
   "outputs": [
    {
     "name": "stdout",
     "output_type": "stream",
     "text": [
      "   id     user_id         username                        date dialogue_type  \\\n",
      "0   1  5406522147  kiliansprenkamp  2024-07-29 11:36:31.058170    persuasion   \n",
      "1   2  5406522147  kiliansprenkamp  2024-07-29 11:43:26.247212    persuasion   \n",
      "2   3  5406522147  kiliansprenkamp  2024-07-29 13:01:04.796842    persuasion   \n",
      "3   4  5406522147  kiliansprenkamp  2024-07-29 13:06:27.103822    persuasion   \n",
      "4   5  5406522147  kiliansprenkamp  2024-07-29 13:07:29.506682    persuasion   \n",
      "\n",
      "                                             article  \\\n",
      "0  F\\nor almost ten months Israel and Hizbullah, ...   \n",
      "1                                                      \n",
      "2  or almost ten months Israel and Hizbullah, a L...   \n",
      "3                                                      \n",
      "4                                                      \n",
      "\n",
      "                           user_input  \\\n",
      "0                                       \n",
      "1  Hello 👋 I think hezbolla is a scam   \n",
      "2                                       \n",
      "3          What is the article about?   \n",
      "4                            Fuck you   \n",
      "\n",
      "                                            response  \n",
      "0                                  Article analyzed.  \n",
      "1  Hello! 👋 I see you have some strong opinions a...  \n",
      "2                                  Article analyzed.  \n",
      "3  The article discusses the escalating conflict ...  \n",
      "4  I understand that the topic can be very emotio...  \n"
     ]
    }
   ],
   "source": [
    "import sqlite3\n",
    "import pandas as pd\n",
    "\n",
    "# Connect to SQLite database\n",
    "conn = sqlite3.connect('/Users/kiliansprenkamp/Desktop/code/apollolytics-dialogue/user_interactions.db')\n",
    "\n",
    "# Define your query\n",
    "query = \"SELECT * FROM interactions\"\n",
    "\n",
    "# Read the SQL query into a pandas DataFrame\n",
    "df = pd.read_sql_query(query, conn)\n",
    "\n",
    "# Close the connection\n",
    "conn.close()\n",
    "\n",
    "# Display the DataFrame\n",
    "print(df)\n"
   ]
  },
  {
   "cell_type": "code",
   "execution_count": 19,
   "metadata": {},
   "outputs": [
    {
     "data": {
      "text/html": [
       "<div>\n",
       "<style scoped>\n",
       "    .dataframe tbody tr th:only-of-type {\n",
       "        vertical-align: middle;\n",
       "    }\n",
       "\n",
       "    .dataframe tbody tr th {\n",
       "        vertical-align: top;\n",
       "    }\n",
       "\n",
       "    .dataframe thead th {\n",
       "        text-align: right;\n",
       "    }\n",
       "</style>\n",
       "<table border=\"1\" class=\"dataframe\">\n",
       "  <thead>\n",
       "    <tr style=\"text-align: right;\">\n",
       "      <th></th>\n",
       "      <th>id</th>\n",
       "      <th>user_id</th>\n",
       "      <th>username</th>\n",
       "      <th>date</th>\n",
       "      <th>dialogue_type</th>\n",
       "      <th>article</th>\n",
       "      <th>user_input</th>\n",
       "      <th>response</th>\n",
       "    </tr>\n",
       "  </thead>\n",
       "  <tbody>\n",
       "    <tr>\n",
       "      <th>0</th>\n",
       "      <td>1</td>\n",
       "      <td>5406522147</td>\n",
       "      <td>kiliansprenkamp</td>\n",
       "      <td>2024-07-29 11:36:31.058170</td>\n",
       "      <td>persuasion</td>\n",
       "      <td>F\\nor almost ten months Israel and Hizbullah, ...</td>\n",
       "      <td></td>\n",
       "      <td>Article analyzed.</td>\n",
       "    </tr>\n",
       "    <tr>\n",
       "      <th>1</th>\n",
       "      <td>2</td>\n",
       "      <td>5406522147</td>\n",
       "      <td>kiliansprenkamp</td>\n",
       "      <td>2024-07-29 11:43:26.247212</td>\n",
       "      <td>persuasion</td>\n",
       "      <td></td>\n",
       "      <td>Hello 👋 I think hezbolla is a scam</td>\n",
       "      <td>Hello! 👋 I see you have some strong opinions a...</td>\n",
       "    </tr>\n",
       "    <tr>\n",
       "      <th>2</th>\n",
       "      <td>3</td>\n",
       "      <td>5406522147</td>\n",
       "      <td>kiliansprenkamp</td>\n",
       "      <td>2024-07-29 13:01:04.796842</td>\n",
       "      <td>persuasion</td>\n",
       "      <td>or almost ten months Israel and Hizbullah, a L...</td>\n",
       "      <td></td>\n",
       "      <td>Article analyzed.</td>\n",
       "    </tr>\n",
       "    <tr>\n",
       "      <th>3</th>\n",
       "      <td>4</td>\n",
       "      <td>5406522147</td>\n",
       "      <td>kiliansprenkamp</td>\n",
       "      <td>2024-07-29 13:06:27.103822</td>\n",
       "      <td>persuasion</td>\n",
       "      <td></td>\n",
       "      <td>What is the article about?</td>\n",
       "      <td>The article discusses the escalating conflict ...</td>\n",
       "    </tr>\n",
       "    <tr>\n",
       "      <th>4</th>\n",
       "      <td>5</td>\n",
       "      <td>5406522147</td>\n",
       "      <td>kiliansprenkamp</td>\n",
       "      <td>2024-07-29 13:07:29.506682</td>\n",
       "      <td>persuasion</td>\n",
       "      <td></td>\n",
       "      <td>Fuck you</td>\n",
       "      <td>I understand that the topic can be very emotio...</td>\n",
       "    </tr>\n",
       "  </tbody>\n",
       "</table>\n",
       "</div>"
      ],
      "text/plain": [
       "   id     user_id         username                        date dialogue_type  \\\n",
       "0   1  5406522147  kiliansprenkamp  2024-07-29 11:36:31.058170    persuasion   \n",
       "1   2  5406522147  kiliansprenkamp  2024-07-29 11:43:26.247212    persuasion   \n",
       "2   3  5406522147  kiliansprenkamp  2024-07-29 13:01:04.796842    persuasion   \n",
       "3   4  5406522147  kiliansprenkamp  2024-07-29 13:06:27.103822    persuasion   \n",
       "4   5  5406522147  kiliansprenkamp  2024-07-29 13:07:29.506682    persuasion   \n",
       "\n",
       "                                             article  \\\n",
       "0  F\\nor almost ten months Israel and Hizbullah, ...   \n",
       "1                                                      \n",
       "2  or almost ten months Israel and Hizbullah, a L...   \n",
       "3                                                      \n",
       "4                                                      \n",
       "\n",
       "                           user_input  \\\n",
       "0                                       \n",
       "1  Hello 👋 I think hezbolla is a scam   \n",
       "2                                       \n",
       "3          What is the article about?   \n",
       "4                            Fuck you   \n",
       "\n",
       "                                            response  \n",
       "0                                  Article analyzed.  \n",
       "1  Hello! 👋 I see you have some strong opinions a...  \n",
       "2                                  Article analyzed.  \n",
       "3  The article discusses the escalating conflict ...  \n",
       "4  I understand that the topic can be very emotio...  "
      ]
     },
     "execution_count": 19,
     "metadata": {},
     "output_type": "execute_result"
    }
   ],
   "source": [
    "df"
   ]
  },
  {
   "cell_type": "code",
   "execution_count": null,
   "metadata": {},
   "outputs": [],
   "source": []
  }
 ],
 "metadata": {
  "kernelspec": {
   "display_name": "apollo",
   "language": "python",
   "name": "python3"
  },
  "language_info": {
   "codemirror_mode": {
    "name": "ipython",
    "version": 3
   },
   "file_extension": ".py",
   "mimetype": "text/x-python",
   "name": "python",
   "nbconvert_exporter": "python",
   "pygments_lexer": "ipython3",
   "version": "3.10.13"
  }
 },
 "nbformat": 4,
 "nbformat_minor": 2
}
