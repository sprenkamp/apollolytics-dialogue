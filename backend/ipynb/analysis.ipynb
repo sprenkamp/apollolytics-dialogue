{
 "cells": [
  {
   "cell_type": "markdown",
   "metadata": {},
   "source": [
    "# Analysis of Apollo Dialogue Conversations\n",
    "\n",
    "This notebook loads conversation data from DynamoDB and analyzes interactions."
   ]
  },
  {
   "cell_type": "code",
   "execution_count": null,
   "metadata": {},
   "source": [
    "import os\n",
    "import sys\n",
    "import boto3\n",
    "import pandas as pd\n",
    "import matplotlib.pyplot as plt\n",
    "import seaborn as sns\n",
    "import json\n",
    "from datetime import datetime\n",
    "from tqdm.notebook import tqdm\n",
    "\n",
    "# Add parent directory to path so we can import modules\n",
    "sys.path.append('..')\n",
    "\n",
    "# Set plotting style\n",
    "sns.set_style('whitegrid')\n",
    "plt.rcParams['figure.figsize'] = (12, 8)"
   ]
  },
  {
   "cell_type": "markdown",
   "metadata": {},
   "source": [
    "## Configure AWS Credentials\n",
    "\n",
    "First, make sure you have your AWS credentials set. You can either set them here or load from environment variables."
   ]
  },
  {
   "cell_type": "code",
   "metadata": {},
   "source": "# Load AWS credentials from environment variables or set them directly\n# If you set them directly here, be careful not to commit this notebook with sensitive credentials\n\nAWS_REGION = os.environ.get('AWS_REGION', 'eu-north-1')  # Default to Stockholm region\nDYNAMODB_TABLE = os.environ.get('DYNAMODB_TABLE', 'apollolytics_dialogues')\n\n# Uncomment and use these lines if environment variables are not set\n# os.environ['AWS_ACCESS_KEY_ID'] = 'your_access_key_id'\n# os.environ['AWS_SECRET_ACCESS_KEY'] = 'your_secret_access_key'\n\nprint(f\"Using AWS region: {AWS_REGION}\")\nprint(f\"DynamoDB table: {DYNAMODB_TABLE}\")",
   "outputs": []
  },
  {
   "cell_type": "markdown",
   "metadata": {},
   "source": [
    "## Connect to DynamoDB and Load Data"
   ]
  },
  {
   "cell_type": "code",
   "execution_count": null,
   "metadata": {},
   "source": [
    "# Initialize DynamoDB client\n",
    "dynamodb = boto3.resource('dynamodb', region_name=AWS_REGION)\n",
    "table = dynamodb.Table(DYNAMODB_TABLE)\n",
    "\n",
    "# Check if table exists\n",
    "try:\n",
    "    response = table.scan(Limit=1)\n",
    "    print(f\"Successfully connected to DynamoDB table: {DYNAMODB_TABLE}\")\n",
    "except Exception as e:\n",
    "    print(f\"Error connecting to DynamoDB: {str(e)}\")"
   ]
  },
  {
   "cell_type": "code",
   "execution_count": null,
   "metadata": {},
   "source": [
    "# Function to scan all items from DynamoDB table\n",
    "def scan_table(table_name):\n",
    "    \"\"\"Scan all items from DynamoDB table\"\"\"\n",
    "    items = []\n",
    "    scan_kwargs = {}\n",
    "    \n",
    "    print(\"Scanning DynamoDB table...\")\n",
    "    done = False\n",
    "    start_key = None\n",
    "    while not done:\n",
    "        if start_key:\n",
    "            scan_kwargs['ExclusiveStartKey'] = start_key\n",
    "        response = table.scan(**scan_kwargs)\n",
    "        items.extend(response.get('Items', []))\n",
    "        start_key = response.get('LastEvaluatedKey', None)\n",
    "        done = start_key is None\n",
    "        print(f\"Retrieved {len(items)} items so far...\")\n",
    "    \n",
    "    print(f\"Total items retrieved: {len(items)}\")\n",
    "    return items\n",
    "\n",
    "# Scan all items from the table\n",
    "items = scan_table(DYNAMODB_TABLE)"
   ]
  },
  {
   "cell_type": "code",
   "execution_count": null,
   "metadata": {},
   "source": [
    "# Convert DynamoDB items to DataFrame\n",
    "df = pd.DataFrame(items)\n",
    "\n",
    "# Display the first few rows\n",
    "print(f\"Data shape: {df.shape}\")\n",
    "df.head()"
   ]
  },
  {
   "cell_type": "markdown",
   "metadata": {},
   "source": [
    "## Explore Session Data"
   ]
  },
  {
   "cell_type": "code",
   "execution_count": null,
   "metadata": {},
   "source": [
    "# Convert timestamp to datetime\n",
    "df['datetime'] = pd.to_datetime(df['timestamp'].astype(int), unit='s')\n",
    "\n",
    "# Get unique session IDs\n",
    "session_ids = df['session_id'].unique()\n",
    "print(f\"Number of unique sessions: {len(session_ids)}\")\n",
    "\n",
    "# Count events by type\n",
    "event_counts = df['event_type'].value_counts()\n",
    "print(\"\\nEvent types:\")\n",
    "print(event_counts)"
   ]
  },
  {
   "cell_type": "code",
   "execution_count": null,
   "metadata": {},
   "source": [
    "# Plot event type distribution\n",
    "plt.figure(figsize=(10, 6))\n",
    "sns.barplot(x=event_counts.index, y=event_counts.values)\n",
    "plt.title('Distribution of Event Types')\n",
    "plt.ylabel('Count')\n",
    "plt.xlabel('Event Type')\n",
    "plt.xticks(rotation=45)\n",
    "plt.show()"
   ]
  },
  {
   "cell_type": "markdown",
   "metadata": {},
   "source": [
    "## Analyze Dialogue Modes"
   ]
  },
  {
   "cell_type": "code",
   "execution_count": null,
   "metadata": {},
   "source": [
    "# Extract sessions with initialization data\n",
    "session_init_df = df[df['event_type'] == 'session_init']\n",
    "\n",
    "# Count dialogue modes\n",
    "dialogue_modes = session_init_df['dialogue_mode'].value_counts()\n",
    "print(\"Dialogue Modes:\")\n",
    "print(dialogue_modes)\n",
    "\n",
    "# Plot dialogue mode distribution\n",
    "plt.figure(figsize=(10, 6))\n",
    "sns.barplot(x=dialogue_modes.index, y=dialogue_modes.values)\n",
    "plt.title('Distribution of Dialogue Modes')\n",
    "plt.ylabel('Count')\n",
    "plt.xlabel('Dialogue Mode')\n",
    "plt.xticks(rotation=45)\n",
    "plt.show()"
   ]
  },
  {
   "cell_type": "markdown",
   "metadata": {},
   "source": [
    "## Analyze Origin URLs"
   ]
  },
  {
   "cell_type": "code",
   "execution_count": null,
   "metadata": {},
   "source": [
    "# Extract origin URLs\n",
    "origin_urls = session_init_df['origin_url'].value_counts()\n",
    "print(\"Origin URLs:\")\n",
    "print(origin_urls)\n",
    "\n",
    "# Plot origin URL distribution\n",
    "plt.figure(figsize=(12, 6))\n",
    "sns.barplot(x=origin_urls.index, y=origin_urls.values)\n",
    "plt.title('Distribution of Origin URLs')\n",
    "plt.ylabel('Count')\n",
    "plt.xlabel('Origin URL')\n",
    "plt.xticks(rotation=90)\n",
    "plt.tight_layout()\n",
    "plt.show()"
   ]
  },
  {
   "cell_type": "markdown",
   "metadata": {},
   "source": [
    "## Analyze Messages"
   ]
  },
  {
   "cell_type": "code",
   "execution_count": null,
   "metadata": {},
   "source": [
    "# Extract messages\n",
    "message_df = df[df['event_type'] == 'message']\n",
    "\n",
    "# Count messages by role\n",
    "role_counts = message_df['role'].value_counts()\n",
    "print(\"Message Roles:\")\n",
    "print(role_counts)\n",
    "\n",
    "# Plot message role distribution\n",
    "plt.figure(figsize=(8, 6))\n",
    "sns.barplot(x=role_counts.index, y=role_counts.values)\n",
    "plt.title('Distribution of Message Roles')\n",
    "plt.ylabel('Count')\n",
    "plt.xlabel('Role')\n",
    "plt.show()"
   ]
  },
  {
   "cell_type": "markdown",
   "metadata": {},
   "source": [
    "## Analyze Message Length"
   ]
  },
  {
   "cell_type": "code",
   "execution_count": null,
   "metadata": {},
   "source": [
    "# Function to calculate message length from transcript or content\n",
    "def get_message_length(row):\n",
    "    if pd.notna(row.get('transcript')):\n",
    "        return len(row['transcript'])\n",
    "    elif isinstance(row.get('message_content'), str):\n",
    "        return len(row['message_content'])\n",
    "    return 0\n",
    "\n",
    "# Add message length column\n",
    "message_df['message_length'] = message_df.apply(get_message_length, axis=1)\n",
    "\n",
    "# Group by role and calculate average message length\n",
    "avg_length_by_role = message_df.groupby('role')['message_length'].mean()\n",
    "print(\"Average Message Length by Role:\")\n",
    "print(avg_length_by_role)\n",
    "\n",
    "# Plot average message length by role\n",
    "plt.figure(figsize=(8, 6))\n",
    "sns.barplot(x=avg_length_by_role.index, y=avg_length_by_role.values)\n",
    "plt.title('Average Message Length by Role')\n",
    "plt.ylabel('Average Character Count')\n",
    "plt.xlabel('Role')\n",
    "plt.show()"
   ]
  },
  {
   "cell_type": "markdown",
   "metadata": {},
   "source": [
    "## Analyze Messages per Session"
   ]
  },
  {
   "cell_type": "code",
   "execution_count": null,
   "metadata": {},
   "source": [
    "# Count messages per session\n",
    "messages_per_session = message_df.groupby('session_id').size()\n",
    "print(f\"Average messages per session: {messages_per_session.mean():.2f}\")\n",
    "print(f\"Median messages per session: {messages_per_session.median()}\")\n",
    "print(f\"Max messages in a session: {messages_per_session.max()}\")\n",
    "print(f\"Min messages in a session: {messages_per_session.min()}\")\n",
    "\n",
    "# Plot distribution of messages per session\n",
    "plt.figure(figsize=(10, 6))\n",
    "sns.histplot(messages_per_session, kde=True)\n",
    "plt.title('Distribution of Messages per Session')\n",
    "plt.xlabel('Number of Messages')\n",
    "plt.ylabel('Frequency')\n",
    "plt.show()"
   ]
  },
  {
   "cell_type": "markdown",
   "metadata": {},
   "source": [
    "## Analyze Propaganda Results"
   ]
  },
  {
   "cell_type": "code",
   "execution_count": null,
   "metadata": {},
   "source": [
    "# Extract propaganda analysis events\n",
    "propaganda_df = df[df['event_type'] == 'propaganda_analysis']\n",
    "print(f\"Number of propaganda analysis events: {len(propaganda_df)}\")\n",
    "\n",
    "# This cell will need customization based on the actual structure of propaganda results\n",
    "# Here's a sample approach that assumes propaganda_result is a complex nested structure\n",
    "\n",
    "# Function to extract propaganda categories from the result\n",
    "def extract_propaganda_categories(row):\n",
    "    try:\n",
    "        if isinstance(row.get('propaganda_result'), dict) and 'data' in row['propaganda_result']:\n",
    "            return list(row['propaganda_result']['data'].keys())\n",
    "        return []\n",
    "    except:\n",
    "        return []\n",
    "\n",
    "# Apply function to get categories\n",
    "try:\n",
    "    propaganda_df['categories'] = propaganda_df.apply(extract_propaganda_categories, axis=1)\n",
    "    \n",
    "    # Explode the categories list to count occurrences\n",
    "    categories_exploded = propaganda_df.explode('categories')\n",
    "    category_counts = categories_exploded['categories'].value_counts()\n",
    "    \n",
    "    print(\"\\nPropaganda Categories:\")\n",
    "    print(category_counts)\n",
    "    \n",
    "    # Plot propaganda categories\n",
    "    plt.figure(figsize=(12, 6))\n",
    "    sns.barplot(x=category_counts.index, y=category_counts.values)\n",
    "    plt.title('Distribution of Propaganda Categories')\n",
    "    plt.ylabel('Count')\n",
    "    plt.xlabel('Category')\n",
    "    plt.xticks(rotation=45)\n",
    "    plt.tight_layout()\n",
    "    plt.show()\n",
    "except Exception as e:\n",
    "    print(f\"Error analyzing propaganda results: {str(e)}\")\n",
    "    print(\"You may need to customize this section based on your actual data structure.\")"
   ]
  },
  {
   "cell_type": "markdown",
   "metadata": {},
   "source": [
    "## Session Timeline Analysis"
   ]
  },
  {
   "cell_type": "code",
   "execution_count": null,
   "metadata": {},
   "source": [
    "# Sample a single session to analyze its timeline\n",
    "session_id_sample = session_ids[0] if len(session_ids) > 0 else None\n",
    "\n",
    "if session_id_sample:\n",
    "    # Filter data for the sampled session\n",
    "    session_data = df[df['session_id'] == session_id_sample].sort_values('timestamp')\n",
    "    \n",
    "    print(f\"Timeline for session: {session_id_sample}\")\n",
    "    print(f\"Number of events: {len(session_data)}\")\n",
    "    \n",
    "    # Display simplified timeline\n",
    "    timeline_df = session_data[['event_type', 'datetime']]\n",
    "    timeline_df = timeline_df.reset_index(drop=True)\n",
    "    timeline_df"
   ]
  },
  {
   "cell_type": "markdown",
   "metadata": {},
   "source": [
    "## Export Processed Data"
   ]
  },
  {
   "cell_type": "code",
   "execution_count": null,
   "metadata": {},
   "source": [
    "# Export the processed data to CSV\n",
    "df.to_csv('apollolytics_dialogue_data.csv', index=False)\n",
    "print(\"Data exported to apollolytics_dialogue_data.csv\")"
   ]
  },
  {
   "cell_type": "markdown",
   "metadata": {},
   "source": [
    "## Custom Analysis\n",
    "\n",
    "This section can be expanded for specific analyses you want to perform on your dialogue data."
   ]
  },
  {
   "cell_type": "code",
   "execution_count": null,
   "metadata": {},
   "source": [
    "# Add your custom analysis here\n",
    "# For example, you might want to analyze:\n",
    "# - Correlation between dialogue mode and conversation length\n",
    "# - Most common propaganda techniques by article source\n",
    "# - User engagement metrics\n",
    "# - Sentiment analysis of messages\n",
    "# - etc."
   ]
  }
 ],
 "metadata": {
  "kernelspec": {
   "display_name": "Python 3",
   "language": "python",
   "name": "python3"
  },
  "language_info": {
   "codemirror_mode": {
    "name": "ipython",
    "version": 3
   },
   "file_extension": ".py",
   "mimetype": "text/x-python",
   "name": "python",
   "nbconvert_exporter": "python",
   "pygments_lexer": "ipython3",
   "version": "3.10.0"
  }
 },
 "nbformat": 4,
 "nbformat_minor": 4
}